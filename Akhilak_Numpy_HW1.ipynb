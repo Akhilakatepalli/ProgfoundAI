{
 "cells": [
  {
   "cell_type": "markdown",
   "id": "56bcd222",
   "metadata": {
    "id": "56bcd222"
   },
   "source": [
    "### NumPy Homework\n",
    "\n",
    "28 points\n",
    "\n",
    "Due by midnight February 12, 2024\n",
    "\n",
    "**To avoid erasing the sample output, please insert a new cell above the sample output**. Write your script inside the new cell and run. Verify your output with the sample output. The fish image can be downloaded from the Blackboard\n",
    "\n",
    "For homework submission, please rename your file using the following format\n",
    "\n",
    "`firstname_familyname_NumPy_Homework.ipynb`"
   ]
  },
  {
   "cell_type": "code",
   "execution_count": null,
   "id": "3076cb9d",
   "metadata": {
    "id": "3076cb9d"
   },
   "outputs": [],
   "source": [
    "Akhila K\n",
    "700747788\n",
    "\n"
   ]
  },
  {
   "cell_type": "markdown",
   "id": "628d0254",
   "metadata": {
    "id": "628d0254"
   },
   "source": [
    "### Task 0\n",
    "Import the numpy package as np"
   ]
  },
  {
   "cell_type": "code",
   "execution_count": 4,
   "id": "c9370f82",
   "metadata": {
    "id": "c9370f82"
   },
   "outputs": [],
   "source": [
    "import numpy as np"
   ]
  },
  {
   "cell_type": "markdown",
   "id": "568fa9ad",
   "metadata": {
    "id": "568fa9ad"
   },
   "source": [
    "### Task 1\n",
    "Create an numpy array of 10 nines"
   ]
  },
  {
   "cell_type": "code",
   "execution_count": 5,
   "id": "eb44f651",
   "metadata": {
    "colab": {
     "base_uri": "https://localhost:8080/"
    },
    "id": "eb44f651",
    "outputId": "03635569-16e4-4053-b512-179adab4966e"
   },
   "outputs": [
    {
     "data": {
      "text/plain": [
       "array([9., 9., 9., 9., 9., 9., 9., 9., 9., 9.])"
      ]
     },
     "execution_count": 5,
     "metadata": {},
     "output_type": "execute_result"
    }
   ],
   "source": [
    "np.ones(10)*9"
   ]
  },
  {
   "cell_type": "markdown",
   "id": "83a32e2c",
   "metadata": {
    "id": "83a32e2c"
   },
   "source": [
    "### Task 2\n",
    "Create an array of all the odd integers ranging from 11 to 49"
   ]
  },
  {
   "cell_type": "code",
   "execution_count": 6,
   "id": "8a5711d6",
   "metadata": {
    "colab": {
     "base_uri": "https://localhost:8080/"
    },
    "id": "8a5711d6",
    "outputId": "17a8834d-78a0-4fb3-a419-416c8b0ebe12"
   },
   "outputs": [
    {
     "data": {
      "text/plain": [
       "array([11, 13, 15, 17, 19, 21, 23, 25, 27, 29, 31, 33, 35, 37, 39, 41, 43,\n",
       "       45, 47, 49])"
      ]
     },
     "execution_count": 6,
     "metadata": {},
     "output_type": "execute_result"
    }
   ],
   "source": [
    "np.arange(11,50,2)"
   ]
  },
  {
   "cell_type": "markdown",
   "id": "c8119736",
   "metadata": {
    "id": "c8119736"
   },
   "source": [
    "### Task 3\n",
    "Create a $10 \\times 10$ numpy array with values ranging from 0.01 to 1.0 with step 0.01"
   ]
  },
  {
   "cell_type": "code",
   "execution_count": 7,
   "id": "a3e91733",
   "metadata": {
    "colab": {
     "base_uri": "https://localhost:8080/"
    },
    "id": "a3e91733",
    "outputId": "e540c980-368f-49d0-d407-84574a0f302d"
   },
   "outputs": [
    {
     "data": {
      "text/plain": [
       "array([[0.01, 0.02, 0.03, 0.04, 0.05, 0.06, 0.07, 0.08, 0.09, 0.1 ],\n",
       "       [0.11, 0.12, 0.13, 0.14, 0.15, 0.16, 0.17, 0.18, 0.19, 0.2 ],\n",
       "       [0.21, 0.22, 0.23, 0.24, 0.25, 0.26, 0.27, 0.28, 0.29, 0.3 ],\n",
       "       [0.31, 0.32, 0.33, 0.34, 0.35, 0.36, 0.37, 0.38, 0.39, 0.4 ],\n",
       "       [0.41, 0.42, 0.43, 0.44, 0.45, 0.46, 0.47, 0.48, 0.49, 0.5 ],\n",
       "       [0.51, 0.52, 0.53, 0.54, 0.55, 0.56, 0.57, 0.58, 0.59, 0.6 ],\n",
       "       [0.61, 0.62, 0.63, 0.64, 0.65, 0.66, 0.67, 0.68, 0.69, 0.7 ],\n",
       "       [0.71, 0.72, 0.73, 0.74, 0.75, 0.76, 0.77, 0.78, 0.79, 0.8 ],\n",
       "       [0.81, 0.82, 0.83, 0.84, 0.85, 0.86, 0.87, 0.88, 0.89, 0.9 ],\n",
       "       [0.91, 0.92, 0.93, 0.94, 0.95, 0.96, 0.97, 0.98, 0.99, 1.  ]])"
      ]
     },
     "execution_count": 7,
     "metadata": {},
     "output_type": "execute_result"
    }
   ],
   "source": [
    "np.arange(0.01,1.01,0.01).reshape(10,10)"
   ]
  },
  {
   "cell_type": "markdown",
   "id": "ab0399ee",
   "metadata": {
    "id": "ab0399ee"
   },
   "source": [
    "### Task 4\n",
    "Generate a numpy array of 12 random numbers sampled from a standard normal distribution. Please use a random seed 123"
   ]
  },
  {
   "cell_type": "code",
   "execution_count": 8,
   "id": "17d85755",
   "metadata": {
    "colab": {
     "base_uri": "https://localhost:8080/"
    },
    "id": "17d85755",
    "outputId": "d5f36ff6-b1b6-4858-b685-a6903fa4708e"
   },
   "outputs": [
    {
     "data": {
      "text/plain": [
       "array([-1.0856306 ,  0.99734545,  0.2829785 , -1.50629471, -0.57860025,\n",
       "        1.65143654, -2.42667924, -0.42891263,  1.26593626, -0.8667404 ,\n",
       "       -0.67888615, -0.09470897])"
      ]
     },
     "execution_count": 8,
     "metadata": {},
     "output_type": "execute_result"
    }
   ],
   "source": [
    "np.random.seed(123)\n",
    "np.random.randn(12)\n"
   ]
  },
  {
   "cell_type": "markdown",
   "id": "03bfff3d",
   "metadata": {
    "id": "03bfff3d"
   },
   "source": [
    "### Task 5\n",
    "Create a numpy array of 20 linearly spaced points between 0 and 1"
   ]
  },
  {
   "cell_type": "code",
   "execution_count": 9,
   "id": "aae26f6d",
   "metadata": {
    "colab": {
     "base_uri": "https://localhost:8080/"
    },
    "id": "aae26f6d",
    "outputId": "d400be15-3380-4a06-94ba-f4ed8f18ec2a"
   },
   "outputs": [
    {
     "data": {
      "text/plain": [
       "array([0.        , 0.05263158, 0.10526316, 0.15789474, 0.21052632,\n",
       "       0.26315789, 0.31578947, 0.36842105, 0.42105263, 0.47368421,\n",
       "       0.52631579, 0.57894737, 0.63157895, 0.68421053, 0.73684211,\n",
       "       0.78947368, 0.84210526, 0.89473684, 0.94736842, 1.        ])"
      ]
     },
     "execution_count": 9,
     "metadata": {},
     "output_type": "execute_result"
    }
   ],
   "source": [
    "np.linspace(0,1,20)"
   ]
  },
  {
   "cell_type": "markdown",
   "id": "29f50789",
   "metadata": {
    "id": "29f50789"
   },
   "source": [
    "### Task 6\n",
    "Create a $6 \\times 6$ two-dimensional array `m` with integers ranging from 1 to 36"
   ]
  },
  {
   "cell_type": "code",
   "execution_count": 10,
   "id": "94ed9c39",
   "metadata": {
    "colab": {
     "base_uri": "https://localhost:8080/"
    },
    "id": "94ed9c39",
    "outputId": "1715bf9a-cfad-46e2-97d6-d295a43fc3e3"
   },
   "outputs": [
    {
     "data": {
      "text/plain": [
       "array([[ 1,  2,  3,  4,  5,  6],\n",
       "       [ 7,  8,  9, 10, 11, 12],\n",
       "       [13, 14, 15, 16, 17, 18],\n",
       "       [19, 20, 21, 22, 23, 24],\n",
       "       [25, 26, 27, 28, 29, 30],\n",
       "       [31, 32, 33, 34, 35, 36]])"
      ]
     },
     "execution_count": 10,
     "metadata": {},
     "output_type": "execute_result"
    }
   ],
   "source": [
    "m=np.arange(1,37).reshape(6,6)\n",
    "m"
   ]
  },
  {
   "cell_type": "markdown",
   "id": "22b6da06",
   "metadata": {
    "id": "22b6da06"
   },
   "source": [
    "### Task 7\n",
    "Using indexing and slicing to extract the following array from array `m`"
   ]
  },
  {
   "cell_type": "code",
   "execution_count": 11,
   "id": "3be39dca",
   "metadata": {
    "colab": {
     "base_uri": "https://localhost:8080/"
    },
    "id": "3be39dca",
    "outputId": "3254e40a-4d76-4f3f-b89f-e8c93e292edd"
   },
   "outputs": [
    {
     "data": {
      "text/plain": [
       "array([[14, 15, 16, 17, 18],\n",
       "       [20, 21, 22, 23, 24],\n",
       "       [26, 27, 28, 29, 30],\n",
       "       [32, 33, 34, 35, 36]])"
      ]
     },
     "execution_count": 11,
     "metadata": {},
     "output_type": "execute_result"
    }
   ],
   "source": [
    "m[2:,1:]"
   ]
  },
  {
   "cell_type": "markdown",
   "id": "455f6098",
   "metadata": {
    "id": "455f6098"
   },
   "source": [
    "### Task 8\n",
    "Using indexing and slicing to extract the following array from array `m`"
   ]
  },
  {
   "cell_type": "code",
   "execution_count": 12,
   "id": "e87bb473",
   "metadata": {
    "colab": {
     "base_uri": "https://localhost:8080/"
    },
    "id": "e87bb473",
    "outputId": "43d87eaa-3058-49cf-f91e-55674235b325"
   },
   "outputs": [
    {
     "data": {
      "text/plain": [
       "array([[ 2],\n",
       "       [ 8],\n",
       "       [14]])"
      ]
     },
     "execution_count": 12,
     "metadata": {},
     "output_type": "execute_result"
    }
   ],
   "source": [
    "m[:3,1:2]"
   ]
  },
  {
   "cell_type": "markdown",
   "id": "dd38c377",
   "metadata": {
    "id": "dd38c377"
   },
   "source": [
    "### Task 9\n",
    "Using indexing and slicing to extract the following array from array `m`"
   ]
  },
  {
   "cell_type": "code",
   "execution_count": 13,
   "id": "52e41963",
   "metadata": {
    "colab": {
     "base_uri": "https://localhost:8080/"
    },
    "id": "52e41963",
    "outputId": "663d7c37-42b3-411b-8ed5-d4c9a1b5cbf9"
   },
   "outputs": [
    {
     "data": {
      "text/plain": [
       "array([[31, 32, 33, 34, 35, 36],\n",
       "       [19, 20, 21, 22, 23, 24]])"
      ]
     },
     "execution_count": 13,
     "metadata": {},
     "output_type": "execute_result"
    }
   ],
   "source": [
    "m[-1:-4:-2]"
   ]
  },
  {
   "cell_type": "markdown",
   "id": "a815078b",
   "metadata": {
    "id": "a815078b"
   },
   "source": [
    "### Task 10\n",
    "Using indexing and slicing to extract the following array from array `m`"
   ]
  },
  {
   "cell_type": "code",
   "execution_count": 14,
   "id": "773846c6",
   "metadata": {
    "colab": {
     "base_uri": "https://localhost:8080/"
    },
    "id": "773846c6",
    "outputId": "fc57694c-0b61-49ea-e25e-56dea90bdbe7"
   },
   "outputs": [
    {
     "data": {
      "text/plain": [
       "array([[36, 35, 34, 33, 32, 31],\n",
       "       [30, 29, 28, 27, 26, 25],\n",
       "       [24, 23, 22, 21, 20, 19]])"
      ]
     },
     "execution_count": 14,
     "metadata": {},
     "output_type": "execute_result"
    }
   ],
   "source": [
    "m[-1:-4:-1,::-1]"
   ]
  },
  {
   "cell_type": "markdown",
   "id": "a72f2bb0",
   "metadata": {
    "id": "a72f2bb0"
   },
   "source": [
    "### Task 11\n",
    "Get the sum of the values in array `m`"
   ]
  },
  {
   "cell_type": "code",
   "execution_count": 15,
   "id": "605b1c53",
   "metadata": {
    "colab": {
     "base_uri": "https://localhost:8080/"
    },
    "id": "605b1c53",
    "outputId": "32753708-906b-47e3-b160-8a00e4969512"
   },
   "outputs": [
    {
     "data": {
      "text/plain": [
       "666"
      ]
     },
     "execution_count": 15,
     "metadata": {},
     "output_type": "execute_result"
    }
   ],
   "source": [
    "np.sum(m)"
   ]
  },
  {
   "cell_type": "markdown",
   "id": "f458647e",
   "metadata": {
    "id": "f458647e"
   },
   "source": [
    "### Task 12\n",
    "Get the sum of all the columns in array `m`"
   ]
  },
  {
   "cell_type": "code",
   "execution_count": 16,
   "id": "c804ad44",
   "metadata": {
    "colab": {
     "base_uri": "https://localhost:8080/"
    },
    "id": "c804ad44",
    "outputId": "506121ac-d969-4c23-8bb1-c702bb20a456"
   },
   "outputs": [
    {
     "data": {
      "text/plain": [
       "array([ 96, 102, 108, 114, 120, 126])"
      ]
     },
     "execution_count": 16,
     "metadata": {},
     "output_type": "execute_result"
    }
   ],
   "source": [
    "np.sum(m,axis=0)"
   ]
  },
  {
   "cell_type": "markdown",
   "id": "304d8096",
   "metadata": {
    "id": "304d8096"
   },
   "source": [
    "### Task 13\n",
    "Select all even numbers from array `m`"
   ]
  },
  {
   "cell_type": "code",
   "execution_count": 17,
   "id": "af12804c",
   "metadata": {
    "colab": {
     "base_uri": "https://localhost:8080/"
    },
    "id": "af12804c",
    "outputId": "6d2ad33c-c264-4c2a-fcb8-fd0aa89842f9"
   },
   "outputs": [
    {
     "data": {
      "text/plain": [
       "array([ 2,  4,  6,  8, 10, 12, 14, 16, 18, 20, 22, 24, 26, 28, 30, 32, 34,\n",
       "       36])"
      ]
     },
     "execution_count": 17,
     "metadata": {},
     "output_type": "execute_result"
    }
   ],
   "source": [
    "m[m%2==0]"
   ]
  },
  {
   "cell_type": "markdown",
   "id": "b0b39b93",
   "metadata": {
    "id": "b0b39b93"
   },
   "source": [
    "### Task 14\n",
    "Create a $3 \\times 3 \\times 5$ three-dimensional array with integers from `[0, 44]`"
   ]
  },
  {
   "cell_type": "code",
   "execution_count": 18,
   "id": "b4315f1b",
   "metadata": {
    "id": "b4315f1b"
   },
   "outputs": [],
   "source": [
    "arr=np.arange(0,45).reshape(3,3,5)"
   ]
  },
  {
   "cell_type": "markdown",
   "id": "95c76f5d",
   "metadata": {
    "id": "95c76f5d"
   },
   "source": [
    "### Task 15\n",
    "Replace the elements within the two red boxes to 1\n",
    "\n",
    "<div>\n",
    "<img src=\"attachment:f1.png\" width=\"210\" align=\"left\"/>\n",
    "</div>"
   ]
  },
  {
   "cell_type": "code",
   "execution_count": 19,
   "id": "a485de44",
   "metadata": {
    "colab": {
     "base_uri": "https://localhost:8080/"
    },
    "id": "a485de44",
    "outputId": "96e876ac-3ae0-4bcb-f274-4b60ba667576"
   },
   "outputs": [
    {
     "data": {
      "text/plain": [
       "array([[[ 0,  1,  2,  3,  4],\n",
       "        [ 5,  6,  7,  8,  9],\n",
       "        [10, 11, 12, 13, 14]],\n",
       "\n",
       "       [[15,  1,  1,  1, 19],\n",
       "        [20, 21, 22, 23, 24],\n",
       "        [25,  1,  1,  1, 29]],\n",
       "\n",
       "       [[30, 31, 32, 33, 34],\n",
       "        [35, 36, 37, 38, 39],\n",
       "        [40, 41, 42, 43, 44]]])"
      ]
     },
     "execution_count": 19,
     "metadata": {},
     "output_type": "execute_result"
    }
   ],
   "source": [
    "arr[1,0::2][0:,1:4]=1\n",
    "arr_=arr\n",
    "arr_"
   ]
  },
  {
   "cell_type": "markdown",
   "id": "b4a98ad7",
   "metadata": {
    "id": "b4a98ad7"
   },
   "source": [
    "### Task 16\n",
    "Replace all the even numbers in the array to 0"
   ]
  },
  {
   "cell_type": "code",
   "execution_count": 20,
   "id": "57c985b2",
   "metadata": {
    "colab": {
     "base_uri": "https://localhost:8080/"
    },
    "id": "57c985b2",
    "outputId": "6bbc491d-982e-4e1c-c230-92dab2369781"
   },
   "outputs": [
    {
     "data": {
      "text/plain": [
       "array([[[ 0,  1,  0,  3,  0],\n",
       "        [ 5,  0,  7,  0,  9],\n",
       "        [ 0, 11,  0, 13,  0]],\n",
       "\n",
       "       [[15,  1,  1,  1, 19],\n",
       "        [ 0, 21,  0, 23,  0],\n",
       "        [25,  1,  1,  1, 29]],\n",
       "\n",
       "       [[ 0, 31,  0, 33,  0],\n",
       "        [35,  0, 37,  0, 39],\n",
       "        [ 0, 41,  0, 43,  0]]])"
      ]
     },
     "execution_count": 20,
     "metadata": {},
     "output_type": "execute_result"
    }
   ],
   "source": [
    "arr2=arr_.ravel()\n",
    "for i in arr2:\n",
    "    if(i%2 == 0):\n",
    "        arr2[i] = 0\n",
    "arr2=arr2.reshape(3,3,5)\n",
    "arr2"
   ]
  },
  {
   "cell_type": "markdown",
   "id": "b565697f",
   "metadata": {
    "id": "b565697f"
   },
   "source": [
    "### Task 17\n",
    "Replace all the odd numbers in the array to 1"
   ]
  },
  {
   "cell_type": "code",
   "execution_count": 21,
   "id": "cd14e05c",
   "metadata": {
    "colab": {
     "base_uri": "https://localhost:8080/"
    },
    "id": "cd14e05c",
    "outputId": "f19da155-f258-462e-eb57-f640bd882c9c"
   },
   "outputs": [
    {
     "data": {
      "text/plain": [
       "array([[[0, 1, 0, 1, 0],\n",
       "        [1, 0, 1, 0, 1],\n",
       "        [0, 1, 0, 1, 0]],\n",
       "\n",
       "       [[1, 1, 1, 1, 1],\n",
       "        [0, 1, 0, 1, 0],\n",
       "        [1, 1, 1, 1, 1]],\n",
       "\n",
       "       [[0, 1, 0, 1, 0],\n",
       "        [1, 0, 1, 0, 1],\n",
       "        [0, 1, 0, 1, 0]]])"
      ]
     },
     "execution_count": 21,
     "metadata": {},
     "output_type": "execute_result"
    }
   ],
   "source": [
    "arr3=arr2.ravel()\n",
    "for i in arr3:\n",
    "    if(i%2 != 0):\n",
    "        arr3[i] = 1\n",
    "arr3=arr3.reshape(3,3,5)\n",
    "arr3"
   ]
  },
  {
   "cell_type": "markdown",
   "id": "bb91ab11",
   "metadata": {
    "id": "bb91ab11"
   },
   "source": [
    "### Task 18\n",
    "Change the array shape to $9 \\times 5$"
   ]
  },
  {
   "cell_type": "code",
   "execution_count": 22,
   "id": "1a68e327",
   "metadata": {
    "colab": {
     "base_uri": "https://localhost:8080/"
    },
    "id": "1a68e327",
    "outputId": "bcc8a5aa-f65e-4b22-f9ba-bb6fc02ddfc5"
   },
   "outputs": [
    {
     "data": {
      "text/plain": [
       "array([[0, 1, 0, 1, 0],\n",
       "       [1, 0, 1, 0, 1],\n",
       "       [0, 1, 0, 1, 0],\n",
       "       [1, 1, 1, 1, 1],\n",
       "       [0, 1, 0, 1, 0],\n",
       "       [1, 1, 1, 1, 1],\n",
       "       [0, 1, 0, 1, 0],\n",
       "       [1, 0, 1, 0, 1],\n",
       "       [0, 1, 0, 1, 0]])"
      ]
     },
     "execution_count": 22,
     "metadata": {},
     "output_type": "execute_result"
    }
   ],
   "source": [
    "arr4=arr3.reshape(9,5)\n",
    "arr4"
   ]
  },
  {
   "cell_type": "markdown",
   "id": "3cab9326",
   "metadata": {
    "id": "3cab9326"
   },
   "source": [
    "### Task 19\n",
    "Creates two $2 \\times 4$ matrices with integers from `[0, 7]`"
   ]
  },
  {
   "cell_type": "code",
   "execution_count": 23,
   "id": "ad1727fa",
   "metadata": {
    "colab": {
     "base_uri": "https://localhost:8080/"
    },
    "id": "ad1727fa",
    "outputId": "6eaab04c-7617-40bf-aeb9-fe6d9b92b9a4"
   },
   "outputs": [
    {
     "name": "stdout",
     "output_type": "stream",
     "text": [
      "[[0 1 2 3]\n",
      " [4 5 6 7]]\n",
      "[[0 1 2 3]\n",
      " [4 5 6 7]]\n"
     ]
    }
   ],
   "source": [
    "d1, d2 = np.arange(0, 8).reshape(2,4), np.arange(0, 8).reshape(2,4)\n",
    "print(d1,d2,sep='\\n')"
   ]
  },
  {
   "cell_type": "markdown",
   "id": "9265c47f",
   "metadata": {
    "id": "9265c47f"
   },
   "source": [
    "### Task 20\n",
    "Vertically stack the two matrices"
   ]
  },
  {
   "cell_type": "code",
   "execution_count": 24,
   "id": "317e679f",
   "metadata": {
    "colab": {
     "base_uri": "https://localhost:8080/"
    },
    "id": "317e679f",
    "outputId": "ac633693-3dd8-4223-984c-e7e579f3ca8f"
   },
   "outputs": [
    {
     "data": {
      "text/plain": [
       "array([[0, 1, 2, 3],\n",
       "       [4, 5, 6, 7],\n",
       "       [0, 1, 2, 3],\n",
       "       [4, 5, 6, 7]])"
      ]
     },
     "execution_count": 24,
     "metadata": {},
     "output_type": "execute_result"
    }
   ],
   "source": [
    "vert = np.vstack([d1,d2])\n",
    "vert"
   ]
  },
  {
   "cell_type": "markdown",
   "id": "77721a71",
   "metadata": {
    "id": "77721a71"
   },
   "source": [
    "### Task 21\n",
    "Split the big matrix into two $4 \\times 2$ small matrices"
   ]
  },
  {
   "cell_type": "code",
   "execution_count": 25,
   "id": "3789856a",
   "metadata": {
    "colab": {
     "base_uri": "https://localhost:8080/"
    },
    "id": "3789856a",
    "outputId": "1d0881f5-edd3-4f9d-a95f-ed595272105c"
   },
   "outputs": [
    {
     "name": "stdout",
     "output_type": "stream",
     "text": [
      "[[0 1]\n",
      " [4 5]\n",
      " [0 1]\n",
      " [4 5]]\n",
      "[[2 3]\n",
      " [6 7]\n",
      " [2 3]\n",
      " [6 7]]\n"
     ]
    }
   ],
   "source": [
    "l,r=np.hsplit(vert,[2])\n",
    "print(l)\n",
    "print(r)"
   ]
  },
  {
   "cell_type": "markdown",
   "id": "898f6e0a",
   "metadata": {
    "id": "898f6e0a"
   },
   "source": [
    "### Task 22\n",
    "Duplicate one of the resulting matrices once horizontally"
   ]
  },
  {
   "cell_type": "code",
   "execution_count": 26,
   "id": "b53ebe4a",
   "metadata": {
    "colab": {
     "base_uri": "https://localhost:8080/"
    },
    "id": "b53ebe4a",
    "outputId": "7ee190c5-46ba-40a7-8ab6-e575366f03a9"
   },
   "outputs": [
    {
     "data": {
      "text/plain": [
       "array([[2, 3, 2, 3],\n",
       "       [6, 7, 6, 7],\n",
       "       [2, 3, 2, 3],\n",
       "       [6, 7, 6, 7]])"
      ]
     },
     "execution_count": 26,
     "metadata": {},
     "output_type": "execute_result"
    }
   ],
   "source": [
    "np.tile(r, 2)"
   ]
  },
  {
   "cell_type": "markdown",
   "id": "a23bd513",
   "metadata": {
    "id": "a23bd513"
   },
   "source": [
    "### Task 23\n",
    "Create an array shown below\n",
    "\n",
    "<div>\n",
    "<img src=\"attachment:f1.png\" width=\"200\" align=\"left\"/>\n",
    "</div>"
   ]
  },
  {
   "cell_type": "code",
   "execution_count": 27,
   "id": "d6d73150",
   "metadata": {
    "colab": {
     "base_uri": "https://localhost:8080/"
    },
    "id": "d6d73150",
    "outputId": "5f830cee-7df3-4faa-997a-36fc46d1285f"
   },
   "outputs": [
    {
     "data": {
      "text/plain": [
       "array([[0., 1., 2., 3.],\n",
       "       [0., 1., 2., 3.],\n",
       "       [0., 1., 2., 3.],\n",
       "       [0., 1., 2., 3.],\n",
       "       [0., 1., 2., 3.],\n",
       "       [0., 1., 2., 3.],\n",
       "       [0., 1., 2., 3.],\n",
       "       [0., 1., 2., 3.]])"
      ]
     },
     "execution_count": 27,
     "metadata": {},
     "output_type": "execute_result"
    }
   ],
   "source": [
    "z=np.arange(0.,4.)\n",
    "np.tile(z, (8, 1))"
   ]
  },
  {
   "cell_type": "markdown",
   "id": "52e8d5e9",
   "metadata": {
    "id": "52e8d5e9"
   },
   "source": [
    "### Task 24\n",
    "Generate a numpy array of 12 random numbers sampled from a standard normal distribution. Please use a random seed 123. Find the first three smallest values from the array"
   ]
  },
  {
   "cell_type": "code",
   "execution_count": 28,
   "id": "25d872b7",
   "metadata": {
    "colab": {
     "base_uri": "https://localhost:8080/"
    },
    "id": "25d872b7",
    "outputId": "9b08a28a-e22d-4a25-faf1-59e67f2833d8"
   },
   "outputs": [
    {
     "data": {
      "text/plain": [
       "array([-2.42667924, -1.50629471, -1.0856306 ])"
      ]
     },
     "execution_count": 28,
     "metadata": {},
     "output_type": "execute_result"
    }
   ],
   "source": [
    "np.random.seed(123)\n",
    "num1=np.random.normal(0,1,12)\n",
    "num2=np.sort(num1)\n",
    "num2[0:3]"
   ]
  },
  {
   "cell_type": "markdown",
   "id": "bfe3081a",
   "metadata": {
    "id": "bfe3081a"
   },
   "source": [
    "### Task 25\n",
    "Generate a numpy array with integer from `1, 2, 3, ..., 30`. Without using loop, find the number of values in the array which are divisible by 2 or 3"
   ]
  },
  {
   "cell_type": "code",
   "execution_count": 29,
   "id": "7ea20e39",
   "metadata": {
    "colab": {
     "base_uri": "https://localhost:8080/"
    },
    "id": "7ea20e39",
    "outputId": "1dae7c59-7f51-4515-f00b-9724fdf43984"
   },
   "outputs": [
    {
     "data": {
      "text/plain": [
       "20"
      ]
     },
     "execution_count": 29,
     "metadata": {},
     "output_type": "execute_result"
    }
   ],
   "source": [
    "n=np.arange(1,31)\n",
    "n[np.where((n % 2 == 0)|(n % 3== 0))].size"
   ]
  },
  {
   "cell_type": "markdown",
   "id": "a573a273",
   "metadata": {
    "id": "a573a273"
   },
   "source": [
    "### Task 26\n",
    "Generate a $6 \\times 5$ numpy array with integer from `1, 2, 3, ..., 30`. Without using loop, set the even number in the array by 1 and odd number in the array by -1"
   ]
  },
  {
   "cell_type": "code",
   "execution_count": 30,
   "id": "d9204e5f",
   "metadata": {
    "colab": {
     "base_uri": "https://localhost:8080/"
    },
    "id": "d9204e5f",
    "outputId": "f7ddf0b2-7208-47fd-a439-db0bdc6af1d3",
    "scrolled": true
   },
   "outputs": [
    {
     "data": {
      "text/plain": [
       "array([[-1,  1, -1,  1, -1],\n",
       "       [ 1, -1,  1, -1,  1],\n",
       "       [-1,  1, -1,  1, -1],\n",
       "       [ 1, -1,  1, -1,  1],\n",
       "       [-1,  1, -1,  1, -1],\n",
       "       [ 1, -1,  1, -1,  1]])"
      ]
     },
     "execution_count": 30,
     "metadata": {},
     "output_type": "execute_result"
    }
   ],
   "source": [
    "n=np.arange(1,31).reshape(6,5)\n",
    "\n",
    "n[0:5:2,0:5:2]=np.full((3,3),-1)\n",
    "n[0:5:2,1:4:2]=np.ones((3,2))\n",
    "n[1:6:2,1:5:2]=np.full((3,2),-1)\n",
    "n[1:6:2,0:6:2]=np.ones((3,3))\n",
    "n"
   ]
  },
  {
   "cell_type": "markdown",
   "id": "c12fe94a",
   "metadata": {
    "id": "c12fe94a"
   },
   "source": [
    "### Task 27\n",
    "Create the following effect for the fish image (flip the left and right sides of the image)"
   ]
  },
  {
   "cell_type": "code",
   "execution_count": 31,
   "id": "5ae9272d",
   "metadata": {
    "colab": {
     "base_uri": "https://localhost:8080/",
     "height": 259
    },
    "id": "5ae9272d",
    "outputId": "5f8f7880-cea0-4e7a-9cd5-c7ab55916767"
   },
   "outputs": [
    {
     "ename": "ModuleNotFoundError",
     "evalue": "No module named 'PIL'",
     "output_type": "error",
     "traceback": [
      "\u001b[1;31m---------------------------------------------------------------------------\u001b[0m",
      "\u001b[1;31mModuleNotFoundError\u001b[0m                       Traceback (most recent call last)",
      "Cell \u001b[1;32mIn[31], line 2\u001b[0m\n\u001b[0;32m      1\u001b[0m \u001b[38;5;28;01mimport\u001b[39;00m \u001b[38;5;21;01mnumpy\u001b[39;00m \u001b[38;5;28;01mas\u001b[39;00m \u001b[38;5;21;01mnp\u001b[39;00m\n\u001b[1;32m----> 2\u001b[0m \u001b[38;5;28;01mfrom\u001b[39;00m \u001b[38;5;21;01mPIL\u001b[39;00m \u001b[38;5;28;01mimport\u001b[39;00m Image\n\u001b[0;32m      3\u001b[0m img1 \u001b[38;5;241m=\u001b[39m np\u001b[38;5;241m.\u001b[39marray(Image\u001b[38;5;241m.\u001b[39mopen(\u001b[38;5;124m'\u001b[39m\u001b[38;5;124mfish.jpeg\u001b[39m\u001b[38;5;124m'\u001b[39m))\n\u001b[0;32m      4\u001b[0m img2 \u001b[38;5;241m=\u001b[39m Image\u001b[38;5;241m.\u001b[39mfromarray(np\u001b[38;5;241m.\u001b[39mfliplr(img1))\n",
      "\u001b[1;31mModuleNotFoundError\u001b[0m: No module named 'PIL'"
     ]
    }
   ],
   "source": [
    "import numpy as np\n",
    "from PIL import Image\n",
    "img1 = np.array(Image.open('fish.jpeg'))\n",
    "img2 = Image.fromarray(np.fliplr(img1))\n",
    "img2"
   ]
  },
  {
   "cell_type": "markdown",
   "id": "335f6a9a",
   "metadata": {
    "id": "335f6a9a"
   },
   "source": [
    "### Task 28\n",
    "Given a $2 \\times 3$ numpy array\n",
    "```python\n",
    "arr = array([[1, 2, 3],\n",
    "             [4, 5, 6]])\n",
    "```\n",
    ", produce the following array using array concatenation\n",
    "```python\n",
    "arr = array([[1, 2, 3, 1, 2, 3],\n",
    "             [4, 5, 6, 4, 5, 6],\n",
    "             [1, 2, 3, 1, 2, 3],\n",
    "             [4, 5, 6, 4, 5, 6]])\n",
    "```"
   ]
  },
  {
   "cell_type": "code",
   "execution_count": 32,
   "id": "4192973f",
   "metadata": {
    "colab": {
     "base_uri": "https://localhost:8080/"
    },
    "id": "4192973f",
    "outputId": "2b5bf121-9cde-4976-ad1a-76bdb6998d7c"
   },
   "outputs": [
    {
     "data": {
      "text/plain": [
       "array([[1, 2, 3, 1, 2, 3],\n",
       "       [4, 5, 6, 4, 5, 6],\n",
       "       [1, 2, 3, 1, 2, 3],\n",
       "       [4, 5, 6, 4, 5, 6]])"
      ]
     },
     "execution_count": 32,
     "metadata": {},
     "output_type": "execute_result"
    }
   ],
   "source": [
    "import numpy as np\n",
    "arr = np.array([[1, 2, 3],\n",
    "                [4, 5, 6]])\n",
    "res = np.concatenate((arr, arr), axis=1)\n",
    "res_final= np.concatenate((res, res), axis=0)\n",
    "res_final"
   ]
  },
  {
   "cell_type": "code",
   "execution_count": null,
   "id": "567d28de-c6b8-4150-bc81-a5c0a486a350",
   "metadata": {},
   "outputs": [],
   "source": []
  }
 ],
 "metadata": {
  "colab": {
   "provenance": []
  },
  "kernelspec": {
   "display_name": "Python 3 (ipykernel)",
   "language": "python",
   "name": "python3"
  },
  "language_info": {
   "codemirror_mode": {
    "name": "ipython",
    "version": 3
   },
   "file_extension": ".py",
   "mimetype": "text/x-python",
   "name": "python",
   "nbconvert_exporter": "python",
   "pygments_lexer": "ipython3",
   "version": "3.12.1"
  }
 },
 "nbformat": 4,
 "nbformat_minor": 5
}
